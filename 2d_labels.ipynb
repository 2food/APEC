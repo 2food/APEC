{
 "cells": [
  {
   "cell_type": "code",
   "execution_count": 14,
   "metadata": {},
   "outputs": [],
   "source": [
    "import os\n",
    "import numpy as np\n",
    "from tqdm.auto import tqdm\n",
    "import mmcv\n",
    "import matplotlib.pyplot as plt"
   ]
  },
  {
   "cell_type": "code",
   "execution_count": 128,
   "metadata": {},
   "outputs": [],
   "source": [
    "keypoints = [\"nose\", \"left_eye\", \"right_eye\", \"left_ear\", \"right_ear\", \"left_shoulder\", \"right_shoulder\", \"left_elbow\", \"right_elbow\", \"left_wrist\", \"right_wrist\", \"left_hip\", \"right_hip\", \"left_knee\", \"right_knee\", \"left_ankle\", \"right_ankle\"]\n",
    "my_keypoints = {\"nose\": \"Nose\",\n",
    "                \"left_ear\": \"Left Ear\", \n",
    "                \"right_ear\": \"Right Ear\", \n",
    "                \"left_shoulder\": \"Left Shoulder\", \n",
    "                \"right_shoulder\": \"Right Shoulder\", \n",
    "                \"left_elbow\": \"Left Elbow\", \n",
    "                \"right_elbow\": \"Right Elbow\", \n",
    "                \"left_wrist\": \"Left Wrist\",\n",
    "                \"right_wrist\": \"Right Wrist\",\n",
    "                \"left_hip\": \"Left Hip\",\n",
    "                \"right_hip\": \"Right Hip\",\n",
    "                \"left_knee\": \"Left Knee\",\n",
    "                \"right_knee\": \"Right Knee\",\n",
    "                \"left_ankle\": \"Left Ankle\",\n",
    "                \"right_ankle\": \"Right Ankle\"}"
   ]
  },
  {
   "cell_type": "code",
   "execution_count": 31,
   "metadata": {},
   "outputs": [],
   "source": [
    "\n",
    "folder = '/home/tormod/ucph-erda-home/mmpose_results/'\n",
    "video = 'IMG_2140'\n",
    "path = f'{folder}{video}/'\n",
    "\n",
    "def load_data(path):\n",
    "    files = os.listdir(path)\n",
    "    files.sort(key=lambda s: int(s.split('.')[0]))\n",
    "    files = files[:500]\n",
    "    no_files = len(files)\n",
    "    data = np.zeros((no_files, 17, 3))\n",
    "    for i, f in tqdm(enumerate(files), total=no_files):\n",
    "        kp_frame = np.load(path + f, allow_pickle=True)\n",
    "        if len(kp_frame) > 0:\n",
    "            kp_frame = kp_frame[0]['keypoints']\n",
    "            data[i] = kp_frame\n",
    "    return data\n"
   ]
  },
  {
   "cell_type": "code",
   "execution_count": 32,
   "metadata": {},
   "outputs": [
    {
     "data": {
      "application/vnd.jupyter.widget-view+json": {
       "model_id": "dfbecddc51c0499993cce5b8b3c19b24",
       "version_major": 2,
       "version_minor": 0
      },
      "text/plain": [
       "HBox(children=(FloatProgress(value=0.0, max=500.0), HTML(value='')))"
      ]
     },
     "metadata": {},
     "output_type": "display_data"
    },
    {
     "name": "stdout",
     "output_type": "stream",
     "text": [
      "\n"
     ]
    }
   ],
   "source": [
    "data = load_data(path)\n"
   ]
  },
  {
   "cell_type": "code",
   "execution_count": 34,
   "metadata": {},
   "outputs": [],
   "source": [
    "\n",
    "video = mmcv.video.VideoReader(f'videos/IMG_2140.MOV')"
   ]
  },
  {
   "cell_type": "code",
   "execution_count": 143,
   "metadata": {},
   "outputs": [],
   "source": [
    "import xml.etree.ElementTree as ET\n",
    "\n",
    "\n",
    "anno_file = '/home/tormod/Downloads/IMG_2140.xml'\n",
    "\n",
    "def keypoint_str(keypoint):\n",
    "    return f'{keypoint[0]:.2f},{keypoint[1]:.2f}'\n",
    "\n",
    "def outside(keypoint, img_shape):\n",
    "    return keypoint[0] < 0 or keypoint[1] < 0 or keypoint[0] >= img_shape[1] or keypoint[1] >= img_shape[0]\n",
    "\n",
    "def to_cvat(anno_file, data):\n",
    "    tree = ET.parse(anno_file)\n",
    "    root = tree.getroot()\n",
    "    size = root.find('meta/task/original_size')\n",
    "    img_shape = int(size.find('height').text), int(size.find('width').text)\n",
    "    for track_id in range(17):\n",
    "        if track_id in [1,2]:\n",
    "            continue\n",
    "        track = ET.SubElement(root, 'track')\n",
    "        track.set('id', str(track_id))\n",
    "        track.set('label', my_keypoints[keypoints[track_id]])\n",
    "        track.set('source', 'mmpose')\n",
    "        for frame_id in range(data.shape[0]):\n",
    "            point = ET.SubElement(track, 'points')\n",
    "            keypoint = data[frame_id, track_id]\n",
    "            point_str = keypoint_str(keypoint)\n",
    "            point.set('frame', str(frame_id))\n",
    "            point.set('outside', '1' if outside(keypoint, img_shape) else '0')\n",
    "            point.set('occluded', '0')\n",
    "            point.set('keyframe', '1')\n",
    "            point.set('points', point_str)\n",
    "            \n",
    "    # Neck\n",
    "    track_id = 18\n",
    "    track = ET.SubElement(root, 'track')\n",
    "    track.set('id', str(track_id))\n",
    "    track.set('label', 'Neck')\n",
    "    track.set('source', 'mmpose')\n",
    "    for frame_id in range(data.shape[0]):\n",
    "        point = ET.SubElement(track, 'points')\n",
    "        keypoint = data[frame_id, 5:7, 0:2].mean(axis=0)\n",
    "        point_str = keypoint_str(keypoint)\n",
    "        point.set('frame', str(frame_id))\n",
    "        point.set('outside', '1' if outside(keypoint, img_shape) else '0')\n",
    "        point.set('occluded', '0')\n",
    "        point.set('keyframe', '1')\n",
    "        point.set('points', point_str)\n",
    "\n",
    "    tree.write('test.xml')\n",
    "    "
   ]
  },
  {
   "cell_type": "code",
   "execution_count": 144,
   "metadata": {},
   "outputs": [],
   "source": [
    "to_cvat(anno_file, data)"
   ]
  }
 ],
 "metadata": {
  "kernelspec": {
   "display_name": "Python 3",
   "language": "python",
   "name": "python3"
  },
  "language_info": {
   "codemirror_mode": {
    "name": "ipython",
    "version": 3
   },
   "file_extension": ".py",
   "mimetype": "text/x-python",
   "name": "python",
   "nbconvert_exporter": "python",
   "pygments_lexer": "ipython3",
   "version": "3.6.13"
  }
 },
 "nbformat": 4,
 "nbformat_minor": 4
}
