{
 "cells": [
  {
   "cell_type": "code",
   "execution_count": 187,
   "metadata": {},
   "outputs": [
    {
     "name": "stdout",
     "output_type": "stream",
     "text": [
      "The autoreload extension is already loaded. To reload it, use:\n",
      "  %reload_ext autoreload\n"
     ]
    },
    {
     "name": "stderr",
     "output_type": "stream",
     "text": [
      "[autoreload of data failed: Traceback (most recent call last):\n",
      "  File \"/home/tormod/.local/lib/python3.6/site-packages/IPython/extensions/autoreload.py\", line 245, in check\n",
      "    superreload(m, reload, self.old_objects)\n",
      "  File \"/home/tormod/.local/lib/python3.6/site-packages/IPython/extensions/autoreload.py\", line 410, in superreload\n",
      "    update_generic(old_obj, new_obj)\n",
      "  File \"/home/tormod/.local/lib/python3.6/site-packages/IPython/extensions/autoreload.py\", line 347, in update_generic\n",
      "    update(a, b)\n",
      "  File \"/home/tormod/.local/lib/python3.6/site-packages/IPython/extensions/autoreload.py\", line 302, in update_class\n",
      "    if update_generic(old_obj, new_obj): continue\n",
      "  File \"/home/tormod/.local/lib/python3.6/site-packages/IPython/extensions/autoreload.py\", line 347, in update_generic\n",
      "    update(a, b)\n",
      "  File \"/home/tormod/.local/lib/python3.6/site-packages/IPython/extensions/autoreload.py\", line 302, in update_class\n",
      "    if update_generic(old_obj, new_obj): continue\n",
      "  File \"/home/tormod/.local/lib/python3.6/site-packages/IPython/extensions/autoreload.py\", line 347, in update_generic\n",
      "    update(a, b)\n",
      "  File \"/home/tormod/.local/lib/python3.6/site-packages/IPython/extensions/autoreload.py\", line 302, in update_class\n",
      "    if update_generic(old_obj, new_obj): continue\n",
      "  File \"/home/tormod/.local/lib/python3.6/site-packages/IPython/extensions/autoreload.py\", line 347, in update_generic\n",
      "    update(a, b)\n",
      "  File \"/home/tormod/.local/lib/python3.6/site-packages/IPython/extensions/autoreload.py\", line 302, in update_class\n",
      "    if update_generic(old_obj, new_obj): continue\n",
      "RecursionError: maximum recursion depth exceeded\n",
      "]\n"
     ]
    }
   ],
   "source": [
    "%load_ext autoreload\n",
    "%autoreload 2"
   ]
  },
  {
   "cell_type": "code",
   "execution_count": 188,
   "metadata": {},
   "outputs": [],
   "source": [
    "import os\n",
    "import numpy as np\n",
    "import mmcv\n",
    "import matplotlib\n",
    "import matplotlib.pyplot as plt\n",
    "import data\n",
    "import joblib\n",
    "import torch\n",
    "import bbox\n",
    "import utils\n",
    "from tqdm.auto import tqdm, trange\n",
    "from bbox import cxcywh2cs\n",
    "#from mesh import render_vids\n",
    "from meva.lib.vibe_loss import VIBELoss\n",
    "from meva.utils.video_config import update_cfg\n",
    "from meva.utils import image_utils, kp_utils\n",
    "from meva.utils.renderer import Renderer\n",
    "from meva.utils.demo_utils import convert_crop_cam_to_orig_img"
   ]
  },
  {
   "cell_type": "code",
   "execution_count": 189,
   "metadata": {},
   "outputs": [
    {
     "name": "stderr",
     "output_type": "stream",
     "text": [
      "/home/tormod/Documents/APEC/meva/utils/image_utils.py:384: RuntimeWarning: invalid value encountered in double_scalars\n",
      "  w = h = np.where(w / h > 1, w, h)\n"
     ]
    },
    {
     "data": {
      "text/plain": [
       "1521"
      ]
     },
     "execution_count": 189,
     "metadata": {},
     "output_type": "execute_result"
    }
   ],
   "source": [
    "cd = data.ClimbingDataset('test', preload_all=True)\n",
    "first = cd.get(0)\n",
    "first.keys()"
   ]
  },
  {
   "cell_type": "code",
   "execution_count": 75,
   "metadata": {},
   "outputs": [],
   "source": [
    "res = joblib.load('/media/tormod/Den Lille/Thesis/meva_results/meva_output.pkl')"
   ]
  },
  {
   "cell_type": "code",
   "execution_count": 4,
   "metadata": {},
   "outputs": [
    {
     "ename": "NameError",
     "evalue": "name 'res' is not defined",
     "output_type": "error",
     "traceback": [
      "\u001b[0;31m---------------------------------------------------------------------------\u001b[0m",
      "\u001b[0;31mNameError\u001b[0m                                 Traceback (most recent call last)",
      "\u001b[0;32m<ipython-input-4-8af24fdbb727>\u001b[0m in \u001b[0;36m<module>\u001b[0;34m\u001b[0m\n\u001b[1;32m      3\u001b[0m \u001b[0mseqinfo\u001b[0m \u001b[0;34m=\u001b[0m \u001b[0mcd\u001b[0m\u001b[0;34m.\u001b[0m\u001b[0mget\u001b[0m\u001b[0;34m(\u001b[0m\u001b[0mseqidx\u001b[0m\u001b[0;34m)\u001b[0m\u001b[0;34m\u001b[0m\u001b[0;34m\u001b[0m\u001b[0m\n\u001b[1;32m      4\u001b[0m \u001b[0minv_trans\u001b[0m \u001b[0;34m=\u001b[0m \u001b[0mseqinfo\u001b[0m\u001b[0;34m[\u001b[0m\u001b[0;34m'inv_trans'\u001b[0m\u001b[0;34m]\u001b[0m\u001b[0;34m[\u001b[0m\u001b[0;36m0\u001b[0m\u001b[0;34m]\u001b[0m\u001b[0;34m\u001b[0m\u001b[0;34m\u001b[0m\u001b[0m\n\u001b[0;32m----> 5\u001b[0;31m \u001b[0mkp_2d\u001b[0m \u001b[0;34m=\u001b[0m \u001b[0mres\u001b[0m\u001b[0;34m[\u001b[0m\u001b[0;34m'joints2d'\u001b[0m\u001b[0;34m]\u001b[0m\u001b[0;34m[\u001b[0m\u001b[0mseqidx\u001b[0m\u001b[0;34m,\u001b[0m \u001b[0mframeid\u001b[0m\u001b[0;34m]\u001b[0m\u001b[0;34m\u001b[0m\u001b[0;34m\u001b[0m\u001b[0m\n\u001b[0m\u001b[1;32m      6\u001b[0m \u001b[0mkp_2d\u001b[0m \u001b[0;34m=\u001b[0m \u001b[0mimage_utils\u001b[0m\u001b[0;34m.\u001b[0m\u001b[0mnormalize_2d_kp\u001b[0m\u001b[0;34m(\u001b[0m\u001b[0mkp_2d\u001b[0m\u001b[0;34m,\u001b[0m \u001b[0minv\u001b[0m\u001b[0;34m=\u001b[0m\u001b[0;32mTrue\u001b[0m\u001b[0;34m)\u001b[0m\u001b[0;34m\u001b[0m\u001b[0;34m\u001b[0m\u001b[0m\n\u001b[1;32m      7\u001b[0m \u001b[0mkp_2d\u001b[0m \u001b[0;34m=\u001b[0m \u001b[0mimage_utils\u001b[0m\u001b[0;34m.\u001b[0m\u001b[0mtrans_points2d\u001b[0m\u001b[0;34m(\u001b[0m\u001b[0mkp_2d\u001b[0m\u001b[0;34m,\u001b[0m \u001b[0minv_trans\u001b[0m\u001b[0;34m)\u001b[0m\u001b[0;34m\u001b[0m\u001b[0;34m\u001b[0m\u001b[0m\n",
      "\u001b[0;31mNameError\u001b[0m: name 'res' is not defined"
     ]
    }
   ],
   "source": [
    "seqidx = 0\n",
    "frameid = 6\n",
    "seqinfo = cd.get(seqidx)\n",
    "inv_trans = seqinfo['inv_trans'][0]\n",
    "kp_2d = res['joints2d'][seqidx, frameid]\n",
    "kp_2d = image_utils.normalize_2d_kp(kp_2d, inv=True)\n",
    "kp_2d = image_utils.trans_points2d(kp_2d, inv_trans)\n",
    "plt.imshow(seqinfo['raw_imgs'][frameid])\n",
    "plt.scatter(kp_2d[:,0], kp_2d[:,1])\n",
    "plt.show();\n"
   ]
  },
  {
   "cell_type": "code",
   "execution_count": null,
   "metadata": {},
   "outputs": [],
   "source": [
    "render_vids(cd, res, '/media/tormod/Den Lille/Thesis/meva_out')"
   ]
  },
  {
   "cell_type": "code",
   "execution_count": null,
   "metadata": {},
   "outputs": [],
   "source": [
    "config_file = f\"meva/cfg/train_meva_2.yml\"\n",
    "cfg = update_cfg(config_file)\n",
    "loss = VIBELoss(\n",
    "    e_loss_weight=cfg.LOSS.KP_2D_W,\n",
    "    e_3d_loss_weight=cfg.LOSS.KP_3D_W,\n",
    "    e_pose_loss_weight=cfg.LOSS.POSE_W,\n",
    "    e_shape_loss_weight=cfg.LOSS.SHAPE_W,\n",
    ")"
   ]
  },
  {
   "cell_type": "code",
   "execution_count": null,
   "metadata": {},
   "outputs": [],
   "source": [
    "def vibe_loss(seqidx, res, cd):\n",
    "    pred_seq = res['joints2d'][seqidx]\n",
    "    pred_seq = image_utils.normalize_2d_kp(pred_seq, inv=True)\n",
    "    pred_seq = torch.Tensor(pred_seq)\n",
    "\n",
    "    seq_info = cd.get(seqidx)\n",
    "    gt_seq = torch.Tensor(seq_info['kp_2d'])\n",
    "    return loss.keypoint_loss(pred_seq, gt_seq, 1,1)\n",
    "    \n",
    "vibe_loss(0, res, cd)"
   ]
  },
  {
   "cell_type": "code",
   "execution_count": 184,
   "metadata": {},
   "outputs": [],
   "source": [
    "def compute_oks(seqidx, res, cd):\n",
    "    seq_info = cd.get(seqidx)\n",
    "    inv_trans = seq_info['inv_trans']\n",
    "    print(inv_trans.shape)\n",
    "    scales = seq_info['bboxes'][:,-1]\n",
    "    pred_seq = res['joints2d'][seqidx].copy()\n",
    "    gt_seq = seq_info['kp_2d'].copy()\n",
    "    return utils.oks(pred_seq, gt_seq, scales, inv_trans)\n",
    "    "
   ]
  },
  {
   "cell_type": "code",
   "execution_count": 185,
   "metadata": {},
   "outputs": [
    {
     "name": "stdout",
     "output_type": "stream",
     "text": [
      "(90, 2, 3)\n"
     ]
    },
    {
     "data": {
      "text/plain": [
       "0.7996725648961384"
      ]
     },
     "execution_count": 185,
     "metadata": {},
     "output_type": "execute_result"
    }
   ],
   "source": [
    "oks_res = compute_oks(0, res, cd)\n",
    "oks_res.mean()"
   ]
  },
  {
   "cell_type": "code",
   "execution_count": 19,
   "metadata": {},
   "outputs": [
    {
     "data": {
      "text/plain": [
       "0.9115043336011293"
      ]
     },
     "execution_count": 19,
     "metadata": {},
     "output_type": "execute_result"
    }
   ],
   "source": [
    "oks_res = compute_oks(0, res, cd)\n",
    "oks_res.mean()"
   ]
  },
  {
   "cell_type": "code",
   "execution_count": null,
   "metadata": {},
   "outputs": [],
   "source": [
    "# TODO compute AP AR https://cocodataset.org/#keypoints-eval"
   ]
  }
 ],
 "metadata": {
  "kernelspec": {
   "display_name": "Python 3",
   "language": "python",
   "name": "python3"
  },
  "language_info": {
   "codemirror_mode": {
    "name": "ipython",
    "version": 3
   },
   "file_extension": ".py",
   "mimetype": "text/x-python",
   "name": "python",
   "nbconvert_exporter": "python",
   "pygments_lexer": "ipython3",
   "version": "3.6.13"
  }
 },
 "nbformat": 4,
 "nbformat_minor": 4
}
