{
 "cells": [
  {
   "cell_type": "code",
   "execution_count": 2,
   "metadata": {},
   "outputs": [],
   "source": [
    "import os\n",
    "import glob\n",
    "import torchvision\n",
    "from tqdm.auto import tqdm, trange\n",
    "import mmcv\n",
    "from mmcv import VideoReader\n",
    "from typing import List\n",
    "from utils import makedirs_ifno"
   ]
  },
  {
   "cell_type": "code",
   "execution_count": 7,
   "metadata": {},
   "outputs": [],
   "source": [
    "input_folder = 'videos/'\n",
    "video_names = [#'IMG_2139.MOV', \n",
    "#                'IMG_2140.MOV',\n",
    "#                'IMG_2141.MOV',\n",
    "#                'IMG_2142.MOV',\n",
    "               'IMG_2320.mov'\n",
    "#                'VID_20210123_091729.mp4',\n",
    "#                'VID_20210123_104706.mp4',\n",
    "#                'VID_20210123_110129.mp4',\n",
    "#                'VID_20210123_111337.mp4',\n",
    "#                'VID_20210123_111921.mp4'\n",
    "              ]\n",
    "stripped_names = [v.split('.')[0] for v in video_names] # without .type\n",
    "video_paths = [input_folder+v for v in video_names]\n",
    "output_folder = '/media/tormod/Den Lille/Thesis/frames/'"
   ]
  },
  {
   "cell_type": "code",
   "execution_count": 4,
   "metadata": {},
   "outputs": [],
   "source": [
    "mmcv.cut_video('videos/VID_20210123_104706.mp4', 'VID_20210123_104706.mp4', start=0, end=150)"
   ]
  },
  {
   "cell_type": "code",
   "execution_count": 11,
   "metadata": {},
   "outputs": [],
   "source": [
    "def save_frames(vids: List[VideoReader]):\n",
    "    for i, v in enumerate(vids):\n",
    "        vname = stripped_names[i]\n",
    "        print(f'Processing {vname}...')\n",
    "        video_folder = f'{output_folder}{vname}/'\n",
    "        makedirs_ifno([video_folder])\n",
    "        for j, f in enumerate(tqdm(v)):\n",
    "            mmcv.imwrite(f, f'{video_folder}{j:06d}.png')"
   ]
  },
  {
   "cell_type": "code",
   "execution_count": 12,
   "metadata": {},
   "outputs": [
    {
     "name": "stdout",
     "output_type": "stream",
     "text": [
      "Processing IMG_2320...\n"
     ]
    },
    {
     "data": {
      "application/vnd.jupyter.widget-view+json": {
       "model_id": "9399df52196e4a70804a105c9ec74bee",
       "version_major": 2,
       "version_minor": 0
      },
      "text/plain": [
       "HBox(children=(FloatProgress(value=0.0, max=7580.0), HTML(value='')))"
      ]
     },
     "metadata": {},
     "output_type": "display_data"
    },
    {
     "name": "stdout",
     "output_type": "stream",
     "text": [
      "\n"
     ]
    }
   ],
   "source": [
    "vids = [VideoReader(f) for f in video_paths]\n",
    "save_frames(vids)"
   ]
  },
  {
   "cell_type": "code",
   "execution_count": null,
   "metadata": {},
   "outputs": [],
   "source": []
  }
 ],
 "metadata": {
  "kernelspec": {
   "display_name": "Python 3",
   "language": "python",
   "name": "python3"
  },
  "language_info": {
   "codemirror_mode": {
    "name": "ipython",
    "version": 3
   },
   "file_extension": ".py",
   "mimetype": "text/x-python",
   "name": "python",
   "nbconvert_exporter": "python",
   "pygments_lexer": "ipython3",
   "version": "3.6.13"
  }
 },
 "nbformat": 4,
 "nbformat_minor": 5
}
