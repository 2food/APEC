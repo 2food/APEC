{
 "cells": [
  {
   "cell_type": "code",
   "execution_count": 9,
   "metadata": {},
   "outputs": [],
   "source": [
    "import os\n",
    "import glob\n",
    "import torchvision\n",
    "from tqdm.auto import tqdm, trange\n",
    "import mmcv\n",
    "from mmcv import VideoReader\n",
    "from typing import List"
   ]
  },
  {
   "cell_type": "code",
   "execution_count": 4,
   "metadata": {},
   "outputs": [],
   "source": [
    "def makedirs_ifno(paths):\n",
    "    for path in paths:\n",
    "        if os.path.exists(path):\n",
    "            files = glob.glob(f'{path}*')\n",
    "            for f in files:\n",
    "                os.remove(f)\n",
    "        else:\n",
    "            os.makedirs(path)"
   ]
  },
  {
   "cell_type": "code",
   "execution_count": 17,
   "metadata": {},
   "outputs": [],
   "source": [
    "input_folder = 'videos/'\n",
    "video_names = ['IMG_2139.MOV', \n",
    "               'IMG_2140.MOV',\n",
    "               'IMG_2141.MOV',\n",
    "               'IMG_2142.MOV',\n",
    "               'VID_20210123_091729.mp4',\n",
    "               'VID_20210123_104706.mp4',\n",
    "               'VID_20210123_110129.mp4',\n",
    "               'VID_20210123_111337.mp4',\n",
    "               'VID_20210123_111921.mp4'\n",
    "              ]\n",
    "stripped_names = [v.split('.')[0] for v in video_names] # without .type\n",
    "video_paths = [input_folder+v for v in video_names]\n",
    "output_folder = '/media/tormod/Den Lille/Thesis/frames/'"
   ]
  },
  {
   "cell_type": "code",
   "execution_count": 18,
   "metadata": {},
   "outputs": [],
   "source": [
    "# vclips = VideoClips(video_paths, \n",
    "#                     clip_length_in_frames=cliplength,\n",
    "#                     frames_between_clips=cliplength,\n",
    "#                     num_workers=8)\n",
    "# def get_clip(vclips, video_idx, idx):\n",
    "#     start = sum([vclips.clips[v_idx].shape[0] for v_idx in range(video_idx)])\n",
    "#     return vclips.get_clip(start+idx)\n"
   ]
  },
  {
   "cell_type": "code",
   "execution_count": 19,
   "metadata": {},
   "outputs": [],
   "source": [
    "def save_frames(vids: List[VideoReader]):\n",
    "    for i, v in enumerate(vids):\n",
    "        vname = stripped_names[i]\n",
    "        print(f'Processing {vname}...')\n",
    "        video_folder = f'{output_folder}{vname}/'\n",
    "        makedirs_ifnodirs_ifno([video_folder])\n",
    "        for j, f in enumerate(tqdm(v)):\n",
    "            mmcv.imwrite(f, f'{video_folder}{j:06d}.png')"
   ]
  },
  {
   "cell_type": "code",
   "execution_count": 20,
   "metadata": {},
   "outputs": [
    {
     "name": "stdout",
     "output_type": "stream",
     "text": [
      "Processing VID_20210123_110129...\n"
     ]
    },
    {
     "data": {
      "application/vnd.jupyter.widget-view+json": {
       "model_id": "1eccf81d48d646288e27de39e50693ff",
       "version_major": 2,
       "version_minor": 0
      },
      "text/plain": [
       "HBox(children=(FloatProgress(value=0.0, max=4647.0), HTML(value='')))"
      ]
     },
     "metadata": {},
     "output_type": "display_data"
    },
    {
     "name": "stdout",
     "output_type": "stream",
     "text": [
      "\n"
     ]
    }
   ],
   "source": [
    "vids = [VideoReader(f) for f in video_paths]\n",
    "save_frames(vids)"
   ]
  }
 ],
 "metadata": {
  "kernelspec": {
   "display_name": "Python 3",
   "language": "python",
   "name": "python3"
  },
  "language_info": {
   "codemirror_mode": {
    "name": "ipython",
    "version": 3
   },
   "file_extension": ".py",
   "mimetype": "text/x-python",
   "name": "python",
   "nbconvert_exporter": "python",
   "pygments_lexer": "ipython3",
   "version": "3.6.13"
  }
 },
 "nbformat": 4,
 "nbformat_minor": 5
}
