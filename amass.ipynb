{
 "cells": [
  {
   "cell_type": "code",
   "execution_count": 3,
   "metadata": {},
   "outputs": [],
   "source": [
    "import numpy as np"
   ]
  },
  {
   "cell_type": "code",
   "execution_count": 4,
   "metadata": {},
   "outputs": [
    {
     "data": {
      "text/plain": [
       "['trans', 'gender', 'mocap_framerate', 'betas', 'dmpls', 'poses']"
      ]
     },
     "execution_count": 4,
     "metadata": {},
     "output_type": "execute_result"
    }
   ],
   "source": [
    "res = np.load('/media/tormod/Den Lille/Thesis/AMASS/ACCAD/Female1General_c3d/A1 - Stand_poses.npz')\n",
    "res.files"
   ]
  },
  {
   "cell_type": "code",
   "execution_count": 6,
   "metadata": {},
   "outputs": [
    {
     "name": "stdout",
     "output_type": "stream",
     "text": [
      "******* Reading AMASS Class Data, Pytorch! ***********\n",
      "Dataset Root:  /media/tormod/Den Lille/Thesis/AMASS/amass_take8.pkl\n",
      "Dataset Flip setting:  0\n",
      "Dataset has SMPL root?:  True\n",
      "Dataset Num Sequences:  36\n",
      "Traj Dimsnion:  144\n",
      "Load Class:  -1\n",
      "******* Finished AMASS Class Data ***********\n"
     ]
    }
   ],
   "source": [
    "from meva.lib.model import get_models\n",
    "from meva.utils.config import Config\n",
    "from meva.dataloaders.data_loaders import get_dataset_cfg\n",
    "cfg = Config('apec_vae_rec_1')\n",
    "vae = get_models(cfg)\n",
    "amass = get_dataset_cfg(cfg)"
   ]
  },
  {
   "cell_type": "code",
   "execution_count": null,
   "metadata": {},
   "outputs": [],
   "source": []
  }
 ],
 "metadata": {
  "kernelspec": {
   "display_name": "Python 3",
   "language": "python",
   "name": "python3"
  },
  "language_info": {
   "codemirror_mode": {
    "name": "ipython",
    "version": 3
   },
   "file_extension": ".py",
   "mimetype": "text/x-python",
   "name": "python",
   "nbconvert_exporter": "python",
   "pygments_lexer": "ipython3",
   "version": "3.6.13"
  }
 },
 "nbformat": 4,
 "nbformat_minor": 4
}
